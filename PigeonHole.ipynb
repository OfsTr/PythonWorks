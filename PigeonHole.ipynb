{
  "nbformat": 4,
  "nbformat_minor": 0,
  "metadata": {
    "colab": {
      "name": "PigeonHole.ipynb",
      "version": "0.3.2",
      "provenance": [],
      "collapsed_sections": [],
      "include_colab_link": true
    },
    "kernelspec": {
      "name": "python3",
      "display_name": "Python 3"
    }
  },
  "cells": [
    {
      "cell_type": "markdown",
      "metadata": {
        "id": "view-in-github",
        "colab_type": "text"
      },
      "source": [
        "<a href=\"https://colab.research.google.com/github/OfsTr/PythonWorks/blob/master/PigeonHole.ipynb\" target=\"_parent\"><img src=\"https://colab.research.google.com/assets/colab-badge.svg\" alt=\"Open In Colab\"/></a>"
      ]
    },
    {
      "metadata": {
        "id": "ko19qex1_3V2",
        "colab_type": "code",
        "colab": {
          "base_uri": "https://localhost:8080/",
          "height": 153
        },
        "outputId": "725074d2-54c4-4063-8651-56f32299c5b2"
      },
      "cell_type": "code",
      "source": [
        "# coding=utf-8\n",
        "# N adet pozitif tam sayı arasında en az iki sayının farkı N-1’e tam bölünebilir ispatı?\n",
        "\n",
        "# kullanıcı girişi ile rakam döner\n",
        "def getuservalue():\n",
        "    userinput = input(\"İkiden büyük bir pozitif sayı giriniz : \")\n",
        "\n",
        "    while 1 == 1:\n",
        "        try:\n",
        "            val = int(userinput)\n",
        "            if (val <= 2):\n",
        "                userinput = input(\"Lütfen sadece pozitif sayı girişi yapınız : \")\n",
        "            else:\n",
        "                print(\"Giriş : \" + str(val))\n",
        "                break\n",
        "        except ValueError:\n",
        "            userinput = input(\"Lütfen sadece pozitif sayı girişi yapınız : \")\n",
        "\n",
        "    return val\n",
        "\n",
        "\n",
        "# birden kullanıcının değerine kadar rakamlardan bir dizi döner\n",
        "def getlist():\n",
        "    lst = []\n",
        "    for i in range(1, getuservalue() + 1):\n",
        "        lst.append(i)\n",
        "    return lst\n",
        "\n",
        "#listede kuralı sağlayan sayıların bulunması\n",
        "def calculatenumber(numberlist):\n",
        "    for i in range(1, len(numberlist)):\n",
        "        for j in range(i + 1, len(numberlist)):\n",
        "            if (max(numberlist) - 1) % (j - 1) == 0:\n",
        "                print(\"birinci sayı : \" + str(i))\n",
        "                print(\"ikinci  sayı : \" + str(j))\n",
        "\n",
        "calculatenumber(getlist())\n"
      ],
      "execution_count": 5,
      "outputs": [
        {
          "output_type": "stream",
          "text": [
            "İkiden büyük bir pozitif sayı giriniz : 5\n",
            "Giriş : 5\n",
            "birinci sayı : 1\n",
            "ikinci  sayı : 2\n",
            "birinci sayı : 1\n",
            "ikinci  sayı : 3\n",
            "birinci sayı : 2\n",
            "ikinci  sayı : 3\n"
          ],
          "name": "stdout"
        }
      ]
    },
    {
      "metadata": {
        "id": "hkCuvbfZ_8dn",
        "colab_type": "text"
      },
      "cell_type": "markdown",
      "source": [
        "**GÜVERCİN YUVASI**\n",
        "\n",
        "Yukarıdaki kodda N adet pozitif tam sayı arasında en az iki sayının farkı N-1’e tam bölünebileceğinin ispatını yapmaktadır.\n",
        "\n",
        "**1. getUserValue():**\n",
        "  Bu metodda kullanıcıda kriterlere uygun olarak bir sayı girişi bekleniyor. \n",
        "  Eğer sayı bir pozitif tam sayı değilse ilgili uyarı verilerek kullanıcıdan tekrar giriş yapması bekleniyor.\n",
        " \n",
        "**2. getList():**\n",
        "  Bu metodda girilen sayı ile bir arasındaki sayılar ile bir dizi oluşturuluyor.\n",
        "  Örnek olarak kullanıcı 4 girişi yaparsa oluşacak dizi [1,2,3,4] olacaktır.\n",
        " \n",
        "** 3. calculatenumber(numberlist):**\n",
        "  Bu metodda ise 1..N arasındaki sayılar ikişer olarak seçilerek mod N-1 0 olması koşulu aranıyor, eşleşen kayıtlar ekrana yazdırılıyor."
      ]
    }
  ]
}