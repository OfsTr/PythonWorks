{
  "nbformat": 4,
  "nbformat_minor": 0,
  "metadata": {
    "colab": {
      "name": "bernoulli_binominal.ipynb",
      "version": "0.3.2",
      "provenance": [],
      "include_colab_link": true
    },
    "kernelspec": {
      "name": "python3",
      "display_name": "Python 3"
    }
  },
  "cells": [
    {
      "cell_type": "markdown",
      "metadata": {
        "id": "view-in-github",
        "colab_type": "text"
      },
      "source": [
        "<a href=\"https://colab.research.google.com/github/OfsTr/PythonWorks/blob/master/bernoulli_binominal.ipynb\" target=\"_parent\"><img src=\"https://colab.research.google.com/assets/colab-badge.svg\" alt=\"Open In Colab\"/></a>"
      ]
    },
    {
      "cell_type": "code",
      "metadata": {
        "id": "3aSojj8rVyVL",
        "colab_type": "code",
        "colab": {
          "base_uri": "https://localhost:8080/",
          "height": 85
        },
        "outputId": "56ebe149-d471-44ad-d3cc-ef04f2251098"
      },
      "source": [
        "# 5 kutusu aspirin olan 10 kutu ilaçtan 3 kutu alınıyor. Alınan kutuların iki tanesinin aspirin olma ihtimali ?\n",
        "\n",
        "# gönderilen değere ait faktoriyel hesaplaması yapar\n",
        "def getfact(x):\n",
        "    fact = 1\n",
        "    for i in range(1, x + 1):\n",
        "        fact *= i\n",
        "    return fact\n",
        "\n",
        "\n",
        "# birinci parametrenin ikinci parametreye göre kombinasyonunu hesaplar\n",
        "def combination(poolsize, combsize):\n",
        "    return getfact(poolsize) / (getfact(poolsize - combsize) * combsize)\n",
        "\n",
        "\n",
        "def usualPossibilty(possiblty, multiplierSize):\n",
        "    total = possiblty\n",
        "    for i in range(multiplierSize - 1):\n",
        "        total = total * possiblty\n",
        "\n",
        "    return total\n",
        "\n",
        "\n",
        "def calculateBinominal(combination, possibilty, adversePossibilty):\n",
        "    return combination * possibilty * adversePossibilty\n",
        "\n",
        "\n",
        "# hesaplanan kombinasyon değerini konsola yazdırır\n",
        "partCombination = combination(3, 2)\n",
        "print(\"combination = \" + str(partCombination))\n",
        "\n",
        "partPossiblty = usualPossibilty(0.5, 2)\n",
        "print(\"possibilty with multiplier = \" + str(partPossiblty))\n",
        "\n",
        "partAdversePossiblty = usualPossibilty(0.5, (3 - 2))\n",
        "print(\"adverse possibilty with multiplier = \" + str(partAdversePossiblty))\n",
        "\n",
        "binominal = calculateBinominal(partCombination, partPossiblty, partAdversePossiblty)\n",
        "print(\"binominal = \" + str(binominal))\n"
      ],
      "execution_count": 1,
      "outputs": [
        {
          "output_type": "stream",
          "text": [
            "combination = 3.0\n",
            "possibilty with multiplier = 0.25\n",
            "adverse possibilty with multiplier = 0.5\n",
            "binominal = 0.375\n"
          ],
          "name": "stdout"
        }
      ]
    }
  ]
}