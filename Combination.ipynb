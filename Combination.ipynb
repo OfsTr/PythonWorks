{
  "nbformat": 4,
  "nbformat_minor": 0,
  "metadata": {
    "colab": {
      "name": "Combination.ipynb",
      "version": "0.3.2",
      "provenance": [],
      "collapsed_sections": [],
      "include_colab_link": true
    },
    "kernelspec": {
      "name": "python3",
      "display_name": "Python 3"
    }
  },
  "cells": [
    {
      "cell_type": "markdown",
      "metadata": {
        "id": "view-in-github",
        "colab_type": "text"
      },
      "source": [
        "<a href=\"https://colab.research.google.com/github/OfsTr/PythonWorks/blob/master/Combination.ipynb\" target=\"_parent\"><img src=\"https://colab.research.google.com/assets/colab-badge.svg\" alt=\"Open In Colab\"/></a>"
      ]
    },
    {
      "metadata": {
        "id": "MWgJG7CY9-Yw",
        "colab_type": "code",
        "colab": {
          "base_uri": "https://localhost:8080/",
          "height": 51
        },
        "outputId": "beb8a296-2002-430d-996d-a8e7ea799d61"
      },
      "cell_type": "code",
      "source": [
        "# coding=utf-8\n",
        "#kullanıcıdan alınan sayının 2 li kombinasyonları sayısı?\n",
        "\n",
        "# gönderilen değere ait faktoriyel hesaplaması yapar\n",
        "def getfact(x):\n",
        "    fact = 1\n",
        "    for i in range(1, x + 1):\n",
        "        fact *= i\n",
        "    return fact\n",
        "\n",
        "\n",
        "# birinci parametrenin ikinci parametreye göre kombinasyonunu hesaplar\n",
        "def combination(poolsize, combsize):\n",
        "    return getfact(poolsize) / (getfact(poolsize - combsize) * combsize)\n",
        "\n",
        "\n",
        "# kullanıcı girişi ile rakam döner\n",
        "def getUserValue():\n",
        "    userinput = input(\"Birden farklı bir rakam giriniz : \")\n",
        "\n",
        "    while 1 == 1:\n",
        "        try:\n",
        "            val = int(userinput)\n",
        "            break\n",
        "        except ValueError:\n",
        "            userinput = input(\"Lütfen sadece rakam girişi yapınız : \")\n",
        "\n",
        "    return val\n",
        "\n",
        "\n",
        "# hesaplanan kombinasyon değerini konsola yazdırır\n",
        "print (combination(getUserValue(), 2))\n"
      ],
      "execution_count": 1,
      "outputs": [
        {
          "output_type": "stream",
          "text": [
            "Birden farklı bir rakam giriniz : 5\n",
            "10.0\n"
          ],
          "name": "stdout"
        }
      ]
    },
    {
      "metadata": {
        "id": "0x5kTg6Z-ATC",
        "colab_type": "text"
      },
      "cell_type": "markdown",
      "source": [
        "**PERMÜTASYON**\n",
        "\n",
        "Yukarıda kullanıcıdan alınan sayının ikili kombinasyonları sayısı hesaplanıyor.\n",
        "\n",
        "**1. getUserValue():**\n",
        "  Bu metodda kullanıcıda kriterlere uygun olarak bir sayı girişi bekleniyor. \n",
        "  Eğer sayı bir pozitif tam sayı değilse ilgili uyarı verilerek kullanıcıdan tekrar giriş yapması bekleniyor.\n",
        " \n",
        "**2. getfact(x)**\n",
        "  Bu metodda gönderilen değerim faktoriyelini bir for döngüsü yardımı ile hesaplıyoruz. Hesaplanan değer metodun dönüş değeri olarak dönülüyor.\n",
        "  \n",
        "**3. combination(poolsize, combsize):**\n",
        "  Bu metodda ise kombinasyon formülü yardımı ile gönderilen değerin 2 li kombinasyonları sayısı hesaplanıyor.\n",
        " \n",
        "**4. Ekrana Yazdırma :** . \n",
        "Hesaplanan kombinasyon değeri console yazdırılıyor.\n",
        "\n",
        "Örnek ekran görüntüsü aşağıdaki gibi olacaktır;\n",
        "Birden farklı bir rakam giriniz : 5\n",
        "10.0\n"
      ]
    }
  ]
}