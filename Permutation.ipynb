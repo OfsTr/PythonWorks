{
  "nbformat": 4,
  "nbformat_minor": 0,
  "metadata": {
    "colab": {
      "name": "Permutation.ipynb",
      "version": "0.3.2",
      "provenance": [],
      "collapsed_sections": [],
      "include_colab_link": true
    },
    "kernelspec": {
      "name": "python3",
      "display_name": "Python 3"
    }
  },
  "cells": [
    {
      "cell_type": "markdown",
      "metadata": {
        "id": "view-in-github",
        "colab_type": "text"
      },
      "source": [
        "<a href=\"https://colab.research.google.com/github/OfsTr/PythonWorks/blob/master/Permutation.ipynb\" target=\"_parent\"><img src=\"https://colab.research.google.com/assets/colab-badge.svg\" alt=\"Open In Colab\"/></a>"
      ]
    },
    {
      "metadata": {
        "id": "bncbKhoM3xui",
        "colab_type": "code",
        "outputId": "86880103-c14c-49cb-fffe-6df0ac19744c",
        "colab": {
          "base_uri": "https://localhost:8080/",
          "height": 459
        }
      },
      "cell_type": "code",
      "source": [
        "# coding=utf-8\n",
        "#kullanıcıdan alınan sayıdan 1 e kadar olan pozitif sayılar ile oluşturabilinecek liste ve sayısı?\n",
        "\n",
        "#recursive olarak olası permutasyonları döner\n",
        "def permutation(lst):\n",
        "    if len(lst) == 0:\n",
        "        return []\n",
        "    elif len(lst) == 1:\n",
        "        return [lst]\n",
        "    else:\n",
        "        l = []\n",
        "        for i in range(len(lst)):\n",
        "            x = lst[i]\n",
        "            xs = lst[:i] + lst[i + 1:]\n",
        "            for p in permutation(xs):\n",
        "                l.append([x] + p)\n",
        "        return l\n",
        "\n",
        "\n",
        "# kullanıcı girişi ile rakam döner\n",
        "def getUserValue():\n",
        "    userinput = input(\"Birden farklı bir rakam giriniz : \")\n",
        "\n",
        "    while 1 == 1:\n",
        "        try:\n",
        "            val = int(userinput)\n",
        "            break\n",
        "        except ValueError:\n",
        "            userinput = input(\"Lütfen sadece rakam girişi yapınız : \")\n",
        "\n",
        "    return val\n",
        "\n",
        "#birden kullanıcının değerine kadar rakamlardan bir dizi döner\n",
        "def getList():\n",
        "    lst = []\n",
        "    for i in range(1, getUserValue() + 1):\n",
        "        lst.append(i)\n",
        "    return lst\n",
        "\n",
        "\n",
        "permutationCount = 0\n",
        "\n",
        "#dönen permütasyon listesini ekrana yazdırır\n",
        "for p in permutation(getList()):\n",
        "    permutationCount = permutationCount + 1\n",
        "    print(p)\n",
        "print(permutationCount)\n"
      ],
      "execution_count": 0,
      "outputs": [
        {
          "output_type": "stream",
          "text": [
            "Birden farklı bir rakam giriniz : 4\n",
            "[1, 2, 3, 4]\n",
            "[1, 2, 4, 3]\n",
            "[1, 3, 2, 4]\n",
            "[1, 3, 4, 2]\n",
            "[1, 4, 2, 3]\n",
            "[1, 4, 3, 2]\n",
            "[2, 1, 3, 4]\n",
            "[2, 1, 4, 3]\n",
            "[2, 3, 1, 4]\n",
            "[2, 3, 4, 1]\n",
            "[2, 4, 1, 3]\n",
            "[2, 4, 3, 1]\n",
            "[3, 1, 2, 4]\n",
            "[3, 1, 4, 2]\n",
            "[3, 2, 1, 4]\n",
            "[3, 2, 4, 1]\n",
            "[3, 4, 1, 2]\n",
            "[3, 4, 2, 1]\n",
            "[4, 1, 2, 3]\n",
            "[4, 1, 3, 2]\n",
            "[4, 2, 1, 3]\n",
            "[4, 2, 3, 1]\n",
            "[4, 3, 1, 2]\n",
            "[4, 3, 2, 1]\n",
            "24\n"
          ],
          "name": "stdout"
        }
      ]
    },
    {
      "metadata": {
        "id": "rSp_fh5w3-B3",
        "colab_type": "text"
      },
      "cell_type": "markdown",
      "source": [
        "**PERMÜTASYON**\n",
        "\n",
        "Yukarıda kullanıcıdan alınan sayıdan bire kadar olan pozitif sayılar ile oluşturabilinecek liste ve sayısını hesaplayan python kodu bulunmaktadır.\n",
        "\n",
        "**1. getUserValue():**\n",
        "  Bu metodda kullanıcıda kriterlere uygun olarak bir sayı girişi bekleniyor. \n",
        "  Eğer sayı bir pozitif tam sayı değilse ilgili uyarı verilerek kullanıcıdan tekrar giriş yapması bekleniyor.\n",
        " \n",
        "**2. getList():**\n",
        "  Bu metodda girilen sayı ile bir arasındaki sayılar ile bir dizi oluşturuluyor.\n",
        "  Örnek olarak kullanıcı 4 girişi yaparsa oluşacak dizi [1,2,3,4] olacaktır.\n",
        "\n",
        "**3. permutation(lst):**\n",
        "  Bu metodda getList() metodu ile elde ettiğimiz listenin içerisinde dönerek döngüsel olarak oluşturabileceğimiz listeyi veriyoruz.\n",
        "  \n",
        "**4. Ekrana Yazdırma :** \n",
        "  Son olarak permutation(list) metodundan dönen listeyi for döngüsü ile consola yazdırıyoruz, ayrıca burada yazdırırken kaç farklı durum olduğunuda hesaplayı yazdırıyoruz.\n",
        "  \n",
        "Örnek ekran görüntüsü aşağıdaki gibi olacaktır;\n",
        "Birden farklı bir rakam giriniz : 4\n",
        "[1, 2, 3, 4]\n",
        "[1, 2, 4, 3]\n",
        "[1, 3, 2, 4]\n",
        "[1, 3, 4, 2]\n",
        "[1, 4, 2, 3]\n",
        "[1, 4, 3, 2]\n",
        "[2, 1, 3, 4]\n",
        "[2, 1, 4, 3]\n",
        "[2, 3, 1, 4]\n",
        "[2, 3, 4, 1]\n",
        "[2, 4, 1, 3]\n",
        "[2, 4, 3, 1]\n",
        "[3, 1, 2, 4]\n",
        "[3, 1, 4, 2]\n",
        "[3, 2, 1, 4]\n",
        "[3, 2, 4, 1]\n",
        "[3, 4, 1, 2]\n",
        "[3, 4, 2, 1]\n",
        "[4, 1, 2, 3]\n",
        "[4, 1, 3, 2]\n",
        "[4, 2, 1, 3]\n",
        "[4, 2, 3, 1]\n",
        "[4, 3, 1, 2]\n",
        "[4, 3, 2, 1]\n",
        "24"
      ]
    }
  ]
}