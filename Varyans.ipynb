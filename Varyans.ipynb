{
  "nbformat": 4,
  "nbformat_minor": 0,
  "metadata": {
    "colab": {
      "name": "Varyans.ipynb",
      "version": "0.3.2",
      "provenance": [],
      "include_colab_link": true
    },
    "kernelspec": {
      "name": "python3",
      "display_name": "Python 3"
    }
  },
  "cells": [
    {
      "cell_type": "markdown",
      "metadata": {
        "id": "view-in-github",
        "colab_type": "text"
      },
      "source": [
        "<a href=\"https://colab.research.google.com/github/OfsTr/PythonWorks/blob/master/Varyans.ipynb\" target=\"_parent\"><img src=\"https://colab.research.google.com/assets/colab-badge.svg\" alt=\"Open In Colab\"/></a>"
      ]
    },
    {
      "cell_type": "code",
      "metadata": {
        "id": "voiZ2JsoQTsd",
        "colab_type": "code",
        "colab": {
          "base_uri": "https://localhost:8080/",
          "height": 85
        },
        "outputId": "bcc4a687-91d7-4846-9a50-b833f5eda481"
      },
      "source": [
        "# coding=utf-8\n",
        "# 17,15,23,7,9,13 sayılarının varyansını hesaplayınız.\n",
        "\n",
        "# Sample mean hesaplaması yapar (ortalama hesaplaması)\n",
        "def calculateSampleMean(lst):\n",
        "    if len(lst) == 0:\n",
        "        return []\n",
        "    elif len(lst) == 1:\n",
        "        return [lst]\n",
        "    else:\n",
        "        total = 0\n",
        "        for i in range(len(lst)):\n",
        "            total = total + lst[i]\n",
        "\n",
        "        print(\"total = \" + str(total))\n",
        "        return total / len(lst)\n",
        "\n",
        "\n",
        "def calculateEachDistance(lst, sampleMean):\n",
        "    distanceList = []\n",
        "    for i in range(len(lst)):\n",
        "        distanceList.append(lst[i] - sampleMean)\n",
        "\n",
        "    total = 0\n",
        "    for i in range(len(distanceList)):\n",
        "        total = total + (distanceList[i] * distanceList[i])\n",
        "\n",
        "    return total\n",
        "\n",
        "\n",
        "def calculateVaryans(part, listSize):\n",
        "    return part / (listSize - 1)\n",
        "\n",
        "\n",
        "dataSet = [17, 15, 23, 7, 9, 13]\n",
        "\n",
        "sampleMean = calculateSampleMean(dataSet)\n",
        "\n",
        "print(\"sample mean = \" + str(sampleMean))\n",
        "\n",
        "part = calculateEachDistance(dataSet, sampleMean)\n",
        "\n",
        "print(\"part = \" + str(part))\n",
        "\n",
        "varyans = calculateVaryans(part, len(dataSet))\n",
        "\n",
        "print(\"varyans = \" + str(varyans))\n"
      ],
      "execution_count": 1,
      "outputs": [
        {
          "output_type": "stream",
          "text": [
            "total = 84\n",
            "sample mean = 14.0\n",
            "part = 166.0\n",
            "varyans = 33.2\n"
          ],
          "name": "stdout"
        }
      ]
    },
    {
      "cell_type": "code",
      "metadata": {
        "id": "esVqc-wzQcqU",
        "colab_type": "code",
        "colab": {}
      },
      "source": [
        ""
      ],
      "execution_count": 0,
      "outputs": []
    }
  ]
}