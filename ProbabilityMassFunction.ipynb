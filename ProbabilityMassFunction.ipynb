{
  "nbformat": 4,
  "nbformat_minor": 0,
  "metadata": {
    "colab": {
      "name": "ProbabilityMassFunction.ipynb",
      "version": "0.3.2",
      "provenance": [],
      "include_colab_link": true
    },
    "kernelspec": {
      "name": "python3",
      "display_name": "Python 3"
    }
  },
  "cells": [
    {
      "cell_type": "markdown",
      "metadata": {
        "id": "view-in-github",
        "colab_type": "text"
      },
      "source": [
        "<a href=\"https://colab.research.google.com/github/OfsTr/PythonWorks/blob/master/ProbabilityMassFunction.ipynb\" target=\"_parent\"><img src=\"https://colab.research.google.com/assets/colab-badge.svg\" alt=\"Open In Colab\"/></a>"
      ]
    },
    {
      "cell_type": "code",
      "metadata": {
        "id": "G7yqqVCxQjzT",
        "colab_type": "code",
        "colab": {
          "base_uri": "https://localhost:8080/",
          "height": 102
        },
        "outputId": "98788c0a-47aa-4fb8-efff-fbefab838b79"
      },
      "source": [
        "# Torbadan iki top çekiliyor, Mavi gelme sayısına ait\n",
        "# kesikli olasılık değerini bulunuz.\n",
        "\n",
        "def getBlueBallCount():\n",
        "    userinput = input(\"Mavi top sayısını giriniz : \")\n",
        "\n",
        "    while 1 == 1:\n",
        "        try:\n",
        "            val = int(userinput)\n",
        "            break\n",
        "        except ValueError:\n",
        "            userinput = input(\"Lütfen sadece sayı girişi yapınız : \")\n",
        "\n",
        "    return val\n",
        "\n",
        "\n",
        "def getGreenBallCount():\n",
        "    userinput = input(\"Yeşil top sayısını giriniz : \")\n",
        "\n",
        "    while 1 == 1:\n",
        "        try:\n",
        "            val = int(userinput)\n",
        "            break\n",
        "        except ValueError:\n",
        "            userinput = input(\"Lütfen sadece sayı girişi yapınız : \")\n",
        "\n",
        "    return val\n",
        "\n",
        "\n",
        "def calculateGG():\n",
        "    pGG = greenBallCount / totalBallCount * (greenBallCount - 1) / (totalBallCount - 1)\n",
        "\n",
        "    return pGG\n",
        "\n",
        "\n",
        "def calculateGB():\n",
        "    pGB = greenBallCount / totalBallCount * (blueBallCount - 1) / (totalBallCount - 1)\n",
        "\n",
        "    return pGB\n",
        "\n",
        "\n",
        "def calculateBG():\n",
        "    pBG = blueBallCount / totalBallCount * (greenBallCount - 1) / (totalBallCount - 1)\n",
        "\n",
        "    return pBG\n",
        "\n",
        "\n",
        "def calculateBB():\n",
        "    pBB = blueBallCount / totalBallCount * (blueBallCount - 1) / (totalBallCount - 1)\n",
        "\n",
        "    return pBB\n",
        "\n",
        "\n",
        "blueBallCount = getBlueBallCount()\n",
        "\n",
        "greenBallCount = getGreenBallCount()\n",
        "\n",
        "totalBallCount = blueBallCount + greenBallCount\n",
        "\n",
        "pGG = calculateGG()\n",
        "pGB = calculateGB()\n",
        "pBG = calculateBG()\n",
        "pBB = calculateBB()\n",
        "\n",
        "print(\"     X    |    0       1       2\")\n",
        "print(\"-----------------------------------\")\n",
        "print(\"   P(X=x) |  \" + str(round(pGG, 3)) + \"   \" + str(round(pGB + pBG, 3)) + \"   \" + str(round(pBB, 3)))\n"
      ],
      "execution_count": 1,
      "outputs": [
        {
          "output_type": "stream",
          "text": [
            "Mavi top sayısını giriniz : 3\n",
            "Yeşil top sayısını giriniz : 4\n",
            "     X    |    0       1       2\n",
            "-----------------------------------\n",
            "   P(X=x) |  0.286   0.405   0.143\n"
          ],
          "name": "stdout"
        }
      ]
    }
  ]
}