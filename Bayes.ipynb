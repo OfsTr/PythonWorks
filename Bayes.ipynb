{
  "nbformat": 4,
  "nbformat_minor": 0,
  "metadata": {
    "colab": {
      "name": "Bayes.ipynb",
      "version": "0.3.2",
      "provenance": [],
      "include_colab_link": true
    },
    "kernelspec": {
      "name": "python3",
      "display_name": "Python 3"
    }
  },
  "cells": [
    {
      "cell_type": "markdown",
      "metadata": {
        "id": "view-in-github",
        "colab_type": "text"
      },
      "source": [
        "<a href=\"https://colab.research.google.com/github/OfsTr/PythonWorks/blob/master/Bayes.ipynb\" target=\"_parent\"><img src=\"https://colab.research.google.com/assets/colab-badge.svg\" alt=\"Open In Colab\"/></a>"
      ]
    },
    {
      "metadata": {
        "id": "X84SOG15Oive",
        "colab_type": "code",
        "colab": {
          "base_uri": "https://localhost:8080/",
          "height": 136
        },
        "outputId": "0652f971-141b-4d9a-cef0-8f387b813589"
      },
      "cell_type": "code",
      "source": [
        "# Bayes teoremi\n",
        "# Bir araştırmaya göre her 43 çocuktan 1 tanesi, yetişkinlikte ortaya çıkan belli bir\n",
        "# hastalığa yakalanmakta ve tam güvenilir olmamasına rağmen yapılan test sonuçlarına göre,\n",
        "# hastalıklı bir çocuğun testi %80 pozitif, sağlıklı bir çocuğun testi ise %10 pozitif sonuç vermektedir.\n",
        "# Bu bilgilere göre test sonucu pozitif olan bir çocuğun gerçekten hasta olma olasılığı nedir?\n",
        "\n",
        "# bayes formula P(A|B)=P(B|A)*P(A)/P(B)\n",
        "\n",
        "# kullanıcı girişi ile int döner\n",
        "def getTotalUserValue():\n",
        "    userinput = input(\"Toplam kişi sayısını giriniz : \")\n",
        "\n",
        "    while 1 == 1:\n",
        "        try:\n",
        "            val = int(userinput)\n",
        "            break\n",
        "        except ValueError:\n",
        "            userinput = input(\"Lütfen sadece sayı girişi yapınız : \")\n",
        "\n",
        "    return val\n",
        "\n",
        "# kullanıcı girişi ile int döner\n",
        "def getIllUserValue():\n",
        "    userinput = input(\"Hasta kişi sayısını giriniz : \")\n",
        "\n",
        "    while 1 == 1:\n",
        "        try:\n",
        "            val = int(userinput)\n",
        "            break\n",
        "        except ValueError:\n",
        "            userinput = input(\"Lütfen sadece sayı girişi yapınız : \")\n",
        "\n",
        "    return val\n",
        "\n",
        "# kullanıcı girişi ile rakam döner\n",
        "def getIllUserPositivePercentValue():\n",
        "    userinput = input(\"Hasta birisinin testinini pozitif çıkma olasılı %100 : \")\n",
        "\n",
        "    while 1 == 1:\n",
        "        try:\n",
        "            val = int(userinput)\n",
        "            break\n",
        "        except ValueError:\n",
        "            userinput = input(\"Lütfen sadece 1-100 arasında bir sayı girişi yapınız : \")\n",
        "\n",
        "    return val\n",
        "\n",
        "# kullanıcı girişi ile rakam döner\n",
        "def getHealthyUserPositivePercentValue():\n",
        "    userinput = input(\"Sağlıklı birisinin testinini pozitif çıkma olasılı %100 : \")\n",
        "\n",
        "    while 1 == 1:\n",
        "        try:\n",
        "            val = int(userinput)\n",
        "            break\n",
        "        except ValueError:\n",
        "            userinput = input(\"Lütfen sadece 1-100 arasında bir sayı girişi yapınız : \")\n",
        "\n",
        "    return val\n",
        "\n",
        "#toplam kişi sayısını alıyoruz\n",
        "totalUserCount = getTotalUserValue()\n",
        "\n",
        "# hasta kişi sayısını alıyoruz\n",
        "illUserCount = getIllUserValue()\n",
        "\n",
        "#hasta birisinin test sonucunun pozitif çıkması ihtimalini alıyoruz\n",
        "illUserPositiveTestPercent = getIllUserPositivePercentValue() / 100\n",
        "\n",
        "#sağlıklı birisinin testinin pozitif çıkma ihtimalini alıyoruz\n",
        "healtyUserPositiveTestPercent = getHealthyUserPositivePercentValue() / 100\n",
        "\n",
        "#kişinin hasta ve sağlıklı olma ihtimallerini hesaplıyoruz\n",
        "probabltyIllUser = illUserCount / totalUserCount\n",
        "probabltyHealtyUser = 1 - probabltyIllUser\n",
        "\n",
        "#yapılan testin herhangi birisinde pozitif sonuç verme ihtimalini hesaplıyoruz\n",
        "probabltyPositiveTestPercent = probabltyIllUser * illUserPositiveTestPercent + probabltyHealtyUser * healtyUserPositiveTestPercent\n",
        "\n",
        "#testi pozitif çıkan birisinin gerçekten hasta olma ihtimalini hesaplıyoruz\n",
        "result = illUserPositiveTestPercent * probabltyIllUser / probabltyPositiveTestPercent\n",
        "\n",
        "print(\"Testin pozitif çıkma olasılığı : \" + str(probabltyPositiveTestPercent))\n",
        "\n",
        "print(\"Kişinin hasta olma olaslığı : \" + str(probabltyIllUser))\n",
        "\n",
        "print(\"Test sonucu pozitif olan birisinin gerçekten hasta olma ihtimali :\" + str(result))\n",
        "\n"
      ],
      "execution_count": 1,
      "outputs": [
        {
          "output_type": "stream",
          "text": [
            "Toplam kişi sayısını giriniz : 43\n",
            "Hasta kişi sayısını giriniz : 1\n",
            "Hasta birisinin testinini pozitif çıkma olasılı %100 : 80\n",
            "Sağlıklı birisinin testinini pozitif çıkma olasılı %100 : 10\n",
            "Testin pozitif çıkma olasılığı : 0.11627906976744186\n",
            "Kişinin hasta olma olaslığı : 0.023255813953488372\n",
            "Test sonucu pozitif olan birisinin gerçekten hasta olma ihtimali :0.16\n"
          ],
          "name": "stdout"
        }
      ]
    },
    {
      "metadata": {
        "id": "nWeukaBmOvQW",
        "colab_type": "text"
      },
      "cell_type": "markdown",
      "source": [
        "** BAYES TEOREMİ ÖRNEK**\n",
        " \n",
        " Problem : Bir araştırmaya göre her 43 çocuktan 1 tanesi, yetişkinlikte ortaya çıkan belli bir hastalığa yakalanmakta ve tam güvenilir olmamasına rağmen yapılan test sonuçlarına göre, hastalıklı bir çocuğun testi %80 pozitif, sağlıklı bir çocuğun testi ise %10 pozitif sonuç vermektedir. Bu bilgilere göre test sonucu pozitif olan bir çocuğun gerçekten hasta olma olasılığı nedir?\n",
        " \n",
        " Yukarıda ki problemi parametreler kullanıcıdan alınacak şekilde sonucu hesaplayacak programı geliştiriyoruz.\n",
        " Öncelikle kullanıcıdan paremetleri okumak için dört adet method yazıyoruz ; \n",
        "\n",
        "**  1. getTotalUserValue():**\n",
        "    Toplam kişi sayısı kullanıcıdan alınıyor.\n",
        "    \n",
        "**  2. getIllUserValue():**\n",
        "    Toplam kişiler içersinde kaçının hasta olduğu bilgisi kullanıcıdan alınıyor.\n",
        "   \n",
        "**  3. getIllUserPositivePercentValue():**\n",
        "    Hasta birisine yapılan bir testin pozitif çıkma ihtimali kullanıcıdan alınıyor.\n",
        "  \n",
        "**  4. getHealthyUserPositivePercentValue():**\n",
        "     Sağlıklı birisine yapılan testin pozitif çıkma ihtimali bilgisi kullanıcıdan alınıyor.\n",
        "\n",
        "Sonrasında yapılan testin herhangi birisinde pozitif sonuç verme ihtimalini hesaplıyoruz.\n",
        "\n",
        "Sonrasında ise bayes formülü ile değerleri yerine koyup testi pozitif çıkan birisinin hasta olma ihtimalini hesaplıyoruz.\n",
        "\n",
        "P(A) : Çocuğun hasta olması olasılığı = 1/43\n",
        "P(B) : Testin pozitif çıkması olasılığı = 1/43 * 0.80 + 42/43 * 0.10 = 5/43\n",
        "P(A|B) : Pozitif çıkan testin hastalık çıkma olasılığı ( sorulan bu )\n",
        "P(B|A) : Hastalıklı çocuğun testinin pozitif çıkma olasılığı = 0.80\n",
        "\n",
        "P(A|B)=P(B|A)*P(A)/P(B) => (0.80 * 1/43) / (5/43) = 0.16 = %16 bulunur.\n",
        "\n",
        " "
      ]
    }
  ]
}